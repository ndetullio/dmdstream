{
 "metadata": {
  "language_info": {
   "codemirror_mode": {
    "name": "ipython",
    "version": 3
   },
   "file_extension": ".py",
   "mimetype": "text/x-python",
   "name": "python",
   "nbconvert_exporter": "python",
   "pygments_lexer": "ipython3",
   "version": "3.8.8-final"
  },
  "orig_nbformat": 2,
  "kernelspec": {
   "name": "python388jvsc74a57bd03b08919d9d09818367fce7adb5a8c06e38b67640cfb613d8cfe74d646a8abc30",
   "display_name": "Python 3.8.8 64-bit ('koopman': conda)"
  }
 },
 "nbformat": 4,
 "nbformat_minor": 2,
 "cells": [
  {
   "source": [
    "## "
   ],
   "cell_type": "markdown",
   "metadata": {}
  },
  {
   "source": [
    "## Testing with a simple linear dynamical system\n",
    "\n",
    "We will use the streaming DMD algorithm to recover the characteristic frequencies of a simple scalar, linear dynamical system. In order to be able to use DMD for a scalar system, we will elevate the system to a higher-dimensional space by using time-lagged snapshots of the system state.\n"
   ],
   "cell_type": "markdown",
   "metadata": {}
  },
  {
   "cell_type": "code",
   "execution_count": 89,
   "metadata": {},
   "outputs": [],
   "source": [
    "from dmdstream.dmd import StreamingDMD\n",
    "\n",
    "from math import pi, cos, sin, sqrt\n",
    "import random as rn\n",
    "import numpy as np\n",
    "from numpy.linalg import norm\n",
    "import matplotlib.pyplot as plt "
   ]
  },
  {
   "source": [
    "We start by defining the dynamical system under consideration and a helper function that will allow us to lift the system to higher dimensions:"
   ],
   "cell_type": "markdown",
   "metadata": {}
  },
  {
   "cell_type": "code",
   "execution_count": 119,
   "metadata": {},
   "outputs": [],
   "source": [
    "# Coefficients\n",
    "A1 = 10\n",
    "A2 = 5\n",
    "A3 = 1\n",
    "A4 = 0.1\n",
    "\n",
    "# Time step between system states\n",
    "dt = 1.e-2\n",
    "\n",
    "# System's characteristic frequencies\n",
    "f1 = 6.3\n",
    "f2 = 0.2\n",
    "\n",
    "# Artificial noise covariance\n",
    "noise_cov = 1e-5\n",
    "\n",
    "# Number of lookback snapshots\n",
    "nlookback = 200\n",
    "\n",
    "def dynamical_system(step: int):\n",
    "\n",
    "    state = A1*cos(2*pi*f1*dt*step) + A2*cos(2*pi*f2*dt*step) + A3*sin(2*pi*f1*dt*step) + A4*sin(2*pi*f2*dt*step)\n",
    "    return state\n",
    "\n",
    "def lift(step: int, nlookback: int):\n",
    "\n",
    "    lifted = []\n",
    "    for i in range(step-nlookback, step):\n",
    "        lifted.append(dynamical_system(i))\n",
    "\n",
    "    # Add noise\n",
    "    lifted = np.asarray(lifted)[:, np.newaxis] + sqrt(noise_cov)*np.random.random([nlookback, 1])\n",
    "    \n",
    "    return lifted"
   ]
  },
  {
   "source": [
    "We will let the DMD algorithm observe the dynamical system for a while (num_states) by feeding it with pairs of consecutive system's states. Using only data, the DMD algorithm will learn the linear operator that best describes (in the least squares sense) the dynamics of the system. "
   ],
   "cell_type": "markdown",
   "metadata": {}
  },
  {
   "cell_type": "code",
   "execution_count": 120,
   "metadata": {
    "tags": []
   },
   "outputs": [],
   "source": [
    "# Maximum allowed rank of the learned operator\n",
    "max_rank = 10\n",
    "\n",
    "# Number of states to feed to the DMD algorithm\n",
    "num_states = 501\n",
    "\n",
    "# Instantiate the DMD class\n",
    "sdmd = StreamingDMD(max_rank=max_rank)\n",
    "\n",
    "# Initialise\n",
    "xi = lift(0, nlookback)\n",
    "yi = lift(1, nlookback)\n",
    "sdmd.preprocess(xi, yi)\n",
    "\n",
    "# Learn in streaming mode\n",
    "for i in range(2, num_states):\n",
    "    xi = yi\n",
    "    yi= lift(i, nlookback)\n",
    "    sdmd.update(xi, yi)"
   ]
  },
  {
   "source": [
    "We can now compute the eigenvalues $\\lambda_i$ (Ritz values) of the learned linear operator, which come in complex conjugate pairs and lie in the unit circle. IThe characteristic frequencies of the dynamical system are recovered as $f_i = \\arg(\\lambda_i)/(2\\pi\\Delta t)$, where $\\Delta t$ is the time interval between system states."
   ],
   "cell_type": "markdown",
   "metadata": {}
  },
  {
   "cell_type": "code",
   "execution_count": 122,
   "metadata": {},
   "outputs": [
    {
     "output_type": "stream",
     "name": "stdout",
     "text": [
      "{0.20252256522046594, 6.299872062197028}\n"
     ]
    }
   ],
   "source": [
    "emodes, evals = sdmd.compute_modes()\n",
    "\n",
    "# Calculate frequencies\n",
    "fdmd = np.angle(evals) /  (2*pi*dt)\n",
    "\n",
    "# Calculate amplitudes\n",
    "ydmd = []\n",
    "for i in range(len(fdmd)):\n",
    "    ydmd.append(norm(emodes[:, i])*abs(evals[i]))\n",
    "\n",
    "# Sort frequencies by amplitude of the modes\n",
    "fchar = fdmd[sorted(range(len(ydmd)), key=lambda x: ydmd[x], reverse=True)[:4]]\n",
    "fchar = set(abs(fchar))\n",
    "\n",
    "print(fchar)"
   ]
  }
 ]
}